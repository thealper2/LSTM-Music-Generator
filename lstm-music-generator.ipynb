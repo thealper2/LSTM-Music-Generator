{
 "cells": [
  {
   "cell_type": "code",
   "execution_count": null,
   "metadata": {
    "_cell_guid": "b1076dfc-b9ad-4769-8c92-a6c4dae69d19",
    "_kg_hide-output": true,
    "_uuid": "8f2839f25d086af736a60e9eeb907d3b93b6e0e5"
   },
   "outputs": [],
   "source": [
    "# This Python 3 environment comes with many helpful analytics libraries installed\n",
    "# It is defined by the kaggle/python Docker image: https://github.com/kaggle/docker-python\n",
    "# For example, here's several helpful packages to load\n",
    "\n",
    "import numpy as np # linear algebra\n",
    "import pandas as pd # data processing, CSV file I/O (e.g. pd.read_csv)\n",
    "\n",
    "# Input data files are available in the read-only \"../input/\" directory\n",
    "# For example, running this (by clicking run or pressing Shift+Enter) will list all files under the input directory\n",
    "\n",
    "import os\n",
    "for dirname, _, filenames in os.walk('/kaggle/input'):\n",
    "    for filename in filenames:\n",
    "        print(os.path.join(dirname, filename))\n",
    "\n",
    "# You can write up to 20GB to the current directory (/kaggle/working/) that gets preserved as output when you create a version using \"Save & Run All\" \n",
    "# You can also write temporary files to /kaggle/temp/, but they won't be saved outside of the current session"
   ]
  },
  {
   "cell_type": "markdown",
   "metadata": {},
   "source": [
    "# Install Packages"
   ]
  },
  {
   "cell_type": "code",
   "execution_count": null,
   "metadata": {},
   "outputs": [],
   "source": [
    "!pip install --quiet music21"
   ]
  },
  {
   "cell_type": "code",
   "execution_count": null,
   "metadata": {},
   "outputs": [],
   "source": [
    "!apt-get update && apt-get install -qqy abcmidi lilypond timidity musescore3"
   ]
  },
  {
   "cell_type": "markdown",
   "metadata": {},
   "source": [
    "# Import Libraries"
   ]
  },
  {
   "cell_type": "code",
   "execution_count": null,
   "metadata": {},
   "outputs": [],
   "source": [
    "import os\n",
    "os.environ[\"TF_CPP_MIN_LOG_LEVEL\"] = \"3\"\n",
    "\n",
    "import random\n",
    "import numpy as np\n",
    "import pandas as pd\n",
    "\n",
    "import matplotlib.pyplot as plt\n",
    "from collections import Counter\n",
    "\n",
    "import tqdm\n",
    "import emoji\n",
    "import music21\n",
    "\n",
    "from music21 import converter, instrument, note, chord, stream\n",
    "\n",
    "import tensorflow as tf\n",
    "from tensorflow.keras import layers, models, optimizers, losses, regularizers, metrics, initializers, constraints\n",
    "from tensorflow.keras.utils import to_categorical, plot_model\n",
    "from tensorflow.keras.callbacks import ReduceLROnPlateau, EarlyStopping\n",
    "from tensorflow.keras.preprocessing.text import Tokenizer, text_to_word_sequence\n",
    "from tensorflow.keras.preprocessing.sequence import pad_sequences\n",
    "\n",
    "from sklearn.preprocessing import LabelEncoder\n",
    "from sklearn.feature_extraction.text import TfidfVectorizer, CountVectorizer\n",
    "from sklearn.model_selection import train_test_split\n",
    "from nltk.corpus import stopwords\n",
    "from nltk.tokenize import sent_tokenize\n",
    "\n",
    "from IPython.display import Markdown, Image, Audio\n",
    "\n",
    "def bold(string):\n",
    "    display(Markdown(\"**\" + string + \"**\"))\n",
    "\n",
    "import warnings\n",
    "from sklearn.exceptions import ConvergenceWarning\n",
    "warnings.filterwarnings(\"ignore\", category=UserWarning)\n",
    "warnings.filterwarnings(\"ignore\", category=FutureWarning)\n",
    "warnings.filterwarnings(\"ignore\", category=ConvergenceWarning)"
   ]
  },
  {
   "cell_type": "markdown",
   "metadata": {},
   "source": [
    "# Load Data"
   ]
  },
  {
   "cell_type": "code",
   "execution_count": null,
   "metadata": {},
   "outputs": [],
   "source": [
    "root_dir = '/kaggle/input/classical-music-midi/'"
   ]
  },
  {
   "cell_type": "code",
   "execution_count": null,
   "metadata": {},
   "outputs": [],
   "source": [
    "midi_files = []\n",
    "midi_labels = []\n",
    "for folder in tqdm.tqdm(os.listdir(root_dir)):\n",
    "    files = os.listdir(os.path.join(root_dir, folder))\n",
    "    for file in files:\n",
    "        if file.endswith(\".mid\"):\n",
    "            midi_files.append(os.path.join(root_dir, folder, file))\n",
    "            midi_labels.append(folder)"
   ]
  },
  {
   "cell_type": "code",
   "execution_count": null,
   "metadata": {},
   "outputs": [],
   "source": [
    "df = pd.DataFrame({\n",
    "    \"midi_file\": midi_files,\n",
    "    \"label\": midi_labels\n",
    "})\n",
    "\n",
    "df.head()"
   ]
  },
  {
   "cell_type": "markdown",
   "metadata": {},
   "source": [
    "# EDA"
   ]
  },
  {
   "cell_type": "code",
   "execution_count": null,
   "metadata": {},
   "outputs": [],
   "source": [
    "df.label.value_counts().plot(kind=\"pie\", autopct=\"%.1f%%\")"
   ]
  },
  {
   "cell_type": "code",
   "execution_count": null,
   "metadata": {},
   "outputs": [],
   "source": [
    "tags = Counter(df[\"label\"]).keys()\n",
    "tags_len = Counter(df[\"label\"]).values()\n",
    "tag_df = pd.DataFrame(zip(tags, tags_len), columns=[\"Class\", \"Count\"]).sort_values(by='Count', ascending=False)\n",
    "tag_df.plot(x=\"Class\", y=\"Count\", kind=\"bar\", legend=False, grid=False, figsize=(12, 5), cmap='viridis')\n",
    "plt.title(\"Class / Count\", fontsize=18)\n",
    "plt.xlabel(\"Class\", fontsize=15)\n",
    "plt.ylabel(\"Count\", fontsize=15)\n",
    "plt.show()"
   ]
  },
  {
   "cell_type": "code",
   "execution_count": null,
   "metadata": {},
   "outputs": [],
   "source": [
    "def visualize_midi(file_path):\n",
    "    midi_data = converter.parse(file_path)\n",
    "\n",
    "    notes = []\n",
    "    for part in instrument.partitionByInstrument(midi_data).parts:\n",
    "        for element in part.recurse():\n",
    "            if isinstance(element, note.Note):\n",
    "                notes.append(str(element.pitch))\n",
    "            elif isinstance(element, chord.Chord):\n",
    "                notes.append(\".\".join(str(n) for n in element.normalOrder))\n",
    "\n",
    "    melody = []\n",
    "    offset = 0\n",
    "    for item in notes[:100]:\n",
    "        if \".\" in item or item.isdigit():\n",
    "            chord_notes = [note.Note(int(n)) for n in item.split(\".\")]\n",
    "            chord_snip = chord.Chord(chord_notes)\n",
    "            chord_snip.offset = offset\n",
    "            melody.append(chord_snip)\n",
    "        else:\n",
    "            note_snip = note.Note(item)\n",
    "            note_snip.offset = offset\n",
    "            melody.append(note_snip)\n",
    "        offset += 1\n",
    "\n",
    "    melody_stream = stream.Stream(melody)\n",
    "    melody_stream.show()"
   ]
  },
  {
   "cell_type": "code",
   "execution_count": null,
   "metadata": {},
   "outputs": [],
   "source": [
    "sample = df.sample()\n",
    "print(f\"Notes on {sample[['label']].values[0][0]} - {sample[['midi_file']].values[0][0].split('/')[-1].replace('.mid', '')}\")\n",
    "visualize_midi(sample[[\"midi_file\"]].values[0][0])"
   ]
  },
  {
   "cell_type": "markdown",
   "metadata": {},
   "source": [
    "# Preprocessing"
   ]
  },
  {
   "cell_type": "code",
   "execution_count": null,
   "metadata": {},
   "outputs": [],
   "source": [
    "chopin_midi_files = [midi_file[0] for midi_file in df[df[\"label\"] == \"chopin\"][[\"midi_file\"]].values]"
   ]
  },
  {
   "cell_type": "code",
   "execution_count": null,
   "metadata": {},
   "outputs": [],
   "source": [
    "chopin_notes = []\n",
    "\n",
    "for midi_file in tqdm.tqdm(chopin_midi_files):\n",
    "    midi_data = converter.parse(midi_file)\n",
    "    for part in instrument.partitionByInstrument(midi_data).parts:\n",
    "        for element in part.recurse():\n",
    "            if isinstance(element, note.Note):\n",
    "                chopin_notes.append(str(element.pitch))\n",
    "            elif isinstance(element, chord.Chord):\n",
    "                chopin_notes.append(\".\".join(str(n) for n in element.normalOrder))"
   ]
  },
  {
   "cell_type": "code",
   "execution_count": null,
   "metadata": {},
   "outputs": [],
   "source": [
    "tags = Counter(chopin_notes).keys()\n",
    "tags_len = Counter(chopin_notes).values()\n",
    "tag_df = pd.DataFrame(zip(tags, tags_len), columns=[\"Class\", \"Count\"]).sort_values(by=\"Count\", ascending=False)[:25]\n",
    "tag_df.plot(x=\"Class\", y=\"Count\", kind=\"bar\", legend=False, grid=False, figsize=(12, 5), cmap='viridis')\n",
    "plt.title(\"Most Frequent Chords\", fontsize=18)\n",
    "plt.xlabel(\"Class\", fontsize=15)\n",
    "plt.ylabel(\"Count\", fontsize=15)\n",
    "plt.show()"
   ]
  },
  {
   "cell_type": "code",
   "execution_count": null,
   "metadata": {},
   "outputs": [],
   "source": [
    "tag_df = pd.DataFrame(zip(tags, tags_len), columns=[\"Class\", \"Count\"]).sort_values(by=\"Count\", ascending=True)[:25]\n",
    "tag_df.plot(x=\"Class\", y=\"Count\", kind=\"bar\", legend=False, grid=False, figsize=(12, 5), cmap='viridis')\n",
    "plt.title(\"Least Frequent Chords\", fontsize=18)\n",
    "plt.xlabel(\"Class\", fontsize=15)\n",
    "plt.ylabel(\"Count\", fontsize=15)\n",
    "plt.show()"
   ]
  },
  {
   "cell_type": "code",
   "execution_count": null,
   "metadata": {},
   "outputs": [],
   "source": [
    "chord_counter = Counter(chopin_notes)"
   ]
  },
  {
   "cell_type": "code",
   "execution_count": null,
   "metadata": {},
   "outputs": [],
   "source": [
    "print('Before Cleaning:', len(chopin_notes))"
   ]
  },
  {
   "cell_type": "code",
   "execution_count": null,
   "metadata": {},
   "outputs": [],
   "source": [
    "rare = []\n",
    "\n",
    "for key, value in chord_counter.items():\n",
    "    if value < 100:\n",
    "        rare.append(key)"
   ]
  },
  {
   "cell_type": "code",
   "execution_count": null,
   "metadata": {},
   "outputs": [],
   "source": [
    "corpus = [note for note in chopin_notes if note not in rare]"
   ]
  },
  {
   "cell_type": "code",
   "execution_count": null,
   "metadata": {},
   "outputs": [],
   "source": [
    "print('After Cleaning:', len(corpus))"
   ]
  },
  {
   "cell_type": "code",
   "execution_count": null,
   "metadata": {},
   "outputs": [],
   "source": [
    "symbols = sorted(set(corpus))\n",
    "num_symbols = len(symbols)\n",
    "mapping = {c: i for i, c in enumerate(symbols)}\n",
    "reverse_mapping = {i: c for i, c in enumerate(symbols)}"
   ]
  },
  {
   "cell_type": "code",
   "execution_count": null,
   "metadata": {},
   "outputs": [],
   "source": [
    "print(f\"Total number of characters: {len(corpus)}\")\n",
    "print(f\"Number of unique characters: {num_symbols}\")"
   ]
  },
  {
   "cell_type": "code",
   "execution_count": null,
   "metadata": {},
   "outputs": [],
   "source": [
    "sequence_length = 40\n",
    "features = []\n",
    "targets = []\n",
    "for i in range(len(corpus) - sequence_length):\n",
    "    feature_seq = corpus[i:i + sequence_length]\n",
    "    target_char = corpus[i + sequence_length]\n",
    "    features.append([mapping[char] for char in feature_seq])\n",
    "    targets.append(mapping[target_char])"
   ]
  },
  {
   "cell_type": "code",
   "execution_count": null,
   "metadata": {},
   "outputs": [],
   "source": [
    "features = np.array(features)\n",
    "targets = np.array(targets)"
   ]
  },
  {
   "cell_type": "code",
   "execution_count": null,
   "metadata": {},
   "outputs": [],
   "source": [
    "X = features.reshape((features.shape[0], features.shape[1], 1)) / float(num_symbols)\n",
    "y = to_categorical(targets)"
   ]
  },
  {
   "cell_type": "code",
   "execution_count": null,
   "metadata": {},
   "outputs": [],
   "source": [
    "X_train, X_test, y_train, y_test = train_test_split(X, y, test_size=0.1, random_state=42)"
   ]
  },
  {
   "cell_type": "code",
   "execution_count": null,
   "metadata": {},
   "outputs": [],
   "source": [
    "print(\"X_train shape:\", X_train.shape)\n",
    "print(\"X_test shape:\", X_test.shape)\n",
    "print(\"y_train shape:\", y_train.shape)\n",
    "print(\"y_test shape:\", y_test.shape)"
   ]
  },
  {
   "cell_type": "markdown",
   "metadata": {},
   "source": [
    "# Model"
   ]
  },
  {
   "cell_type": "code",
   "execution_count": null,
   "metadata": {},
   "outputs": [],
   "source": [
    "model = models.Sequential([\n",
    "    layers.LSTM(512, input_shape=(40, 1), return_sequences=True),\n",
    "    layers.Dropout(0.2),\n",
    "    layers.LSTM(512, return_sequences=True),\n",
    "    layers.Dropout(0.2),\n",
    "    layers.LSTM(256),\n",
    "    layers.Dense(256, activation='relu'),\n",
    "    layers.Dropout(0.2),\n",
    "    layers.Dense(128, activation='relu'),\n",
    "    layers.Dense(127, activation='softmax')\n",
    "])"
   ]
  },
  {
   "cell_type": "code",
   "execution_count": null,
   "metadata": {},
   "outputs": [],
   "source": [
    "model.compile(loss='categorical_crossentropy', optimizer=optimizers.Adamax(learning_rate=0.01))"
   ]
  },
  {
   "cell_type": "code",
   "execution_count": null,
   "metadata": {},
   "outputs": [],
   "source": [
    "model.summary()"
   ]
  },
  {
   "cell_type": "code",
   "execution_count": null,
   "metadata": {},
   "outputs": [],
   "source": [
    "plot_model(model, show_shapes=True, show_layer_names=True)"
   ]
  },
  {
   "cell_type": "markdown",
   "metadata": {},
   "source": [
    "# Train"
   ]
  },
  {
   "cell_type": "code",
   "execution_count": null,
   "metadata": {},
   "outputs": [],
   "source": [
    "history = model.fit(X_train, y_train, batch_size=256, epochs=100)"
   ]
  },
  {
   "cell_type": "markdown",
   "metadata": {},
   "source": [
    "# Results"
   ]
  },
  {
   "cell_type": "code",
   "execution_count": null,
   "metadata": {},
   "outputs": [],
   "source": [
    "history_df = pd.DataFrame(history.history)\n",
    "history_df.head()"
   ]
  },
  {
   "cell_type": "code",
   "execution_count": null,
   "metadata": {},
   "outputs": [],
   "source": [
    "plt.figure()\n",
    "plt.plot(history.history[\"loss\"])\n",
    "plt.xlabel(\"Epoch\")\n",
    "plt.ylabel(\"Loss\")\n",
    "plt.legend([\"train\"])\n",
    "plt.title(\"Loss Curve\")\n",
    "plt.show()"
   ]
  },
  {
   "cell_type": "markdown",
   "metadata": {},
   "source": [
    "# Generate"
   ]
  },
  {
   "cell_type": "code",
   "execution_count": null,
   "metadata": {},
   "outputs": [],
   "source": [
    "def music_generator(music_len):\n",
    "    seed = X_test[np.random.randint(0, len(X_test) - 1)]\n",
    "    music = []\n",
    "    for _ in range(music_len):\n",
    "        seed = seed.reshape(1, sequence_length, 1)\n",
    "        pred = model.predict(seed, verbose=0)[0]\n",
    "        index = np.argmax(np.exp(np.log(pred) / 1.0) / np.sum(np.exp(np.log(pred) / 1.0)))\n",
    "        music.append(reverse_mapping[index])\n",
    "        seed = np.append(seed[0][1:], index / float(len(symbols))).reshape(1, sequence_length, 1)\n",
    "\n",
    "    melody = []\n",
    "    for offset, item in enumerate(music):\n",
    "        if \".\" in item or item.isdigit():\n",
    "            chord_notes = [note.Note(int(n)) for n in item.split(\".\")]\n",
    "            melody.append(chord.Chord(chord_notes, offset=offset))\n",
    "        else:\n",
    "            melody.append(note.Note(item, offset=offset))\n",
    "\n",
    "    melody_stream = stream.Stream(melody)\n",
    "    melody_stream.show()\n",
    "\n",
    "    return melody, melody_stream"
   ]
  },
  {
   "cell_type": "code",
   "execution_count": null,
   "metadata": {},
   "outputs": [],
   "source": [
    "melody, melody_stream = music_generator(250)"
   ]
  },
  {
   "cell_type": "code",
   "execution_count": null,
   "metadata": {},
   "outputs": [],
   "source": [
    "melody_stream.write('midi', 'generated.mid')"
   ]
  },
  {
   "cell_type": "code",
   "execution_count": null,
   "metadata": {},
   "outputs": [],
   "source": [
    "!timidity generated.mid -Ow generated.wav"
   ]
  },
  {
   "cell_type": "code",
   "execution_count": null,
   "metadata": {},
   "outputs": [],
   "source": [
    "Audio('generated.wav')"
   ]
  },
  {
   "cell_type": "code",
   "execution_count": null,
   "metadata": {},
   "outputs": [],
   "source": []
  }
 ],
 "metadata": {
  "kernelspec": {
   "display_name": "Python 3 (ipykernel)",
   "language": "python",
   "name": "python3"
  },
  "language_info": {
   "codemirror_mode": {
    "name": "ipython",
    "version": 3
   },
   "file_extension": ".py",
   "mimetype": "text/x-python",
   "name": "python",
   "nbconvert_exporter": "python",
   "pygments_lexer": "ipython3",
   "version": "3.10.12"
  }
 },
 "nbformat": 4,
 "nbformat_minor": 4
}
